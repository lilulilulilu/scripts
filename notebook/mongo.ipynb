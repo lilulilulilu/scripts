{
 "cells": [
  {
   "cell_type": "code",
   "execution_count": null,
   "metadata": {},
   "outputs": [],
   "source": [
    "from pymongo import MongoClient\n",
    "myclient = MongoClient('mongodb://user:password@ip:port')\n",
    "mydb = myclient['chatgpt']\n",
    "conversationCollection = mydb['conversations']\n",
    "messageCollection=mydb['messages']\n",
    "\n",
    "conversationCollection.drop()\n",
    "messageCollection.drop()"
   ]
  },
  {
   "cell_type": "code",
   "execution_count": null,
   "metadata": {},
   "outputs": [],
   "source": [
    "conversation = conversationCollection.find_one({\"_id\":ObjectId(\"64302804924a87602d94eff2\")})\n",
    "print(conversation)\n",
    "print(conversation['messages'])"
   ]
  },
  {
   "cell_type": "code",
   "execution_count": null,
   "metadata": {},
   "outputs": [],
   "source": [
    "message1 = {\"userId\":1,\"role\":\"user\",\"content\":\"query11\"}\n",
    "message2 = {\"userId\":2,\"role\":\"user\",\"content\":\"query21\"}\n",
    "message3 = {\"userId\":3,\"role\":\"user\",\"content\":\"query31\"}\n",
    "\n",
    "msgIDs = list(map(lambda x: str(x),messageCollection.insert_many([message1,message2,message3]).inserted_ids))\n",
    "for id in msgIDs:\n",
    "    print(\"message id: \"+id)"
   ]
  },
  {
   "cell_type": "code",
   "execution_count": null,
   "metadata": {},
   "outputs": [],
   "source": [
    "conversation = {\"userid\":1,\"title\":\"title 1\",\"messages\":msgIDs}\n",
    "result = conversationCollection.insert_one(conversation)\n",
    "print(result.inserted_id)"
   ]
  },
  {
   "cell_type": "code",
   "execution_count": null,
   "metadata": {},
   "outputs": [],
   "source": [
    "for x in conversationCollection.find():\n",
    "  print(x)\n",
    "  print(str(x['_id']))"
   ]
  },
  {
   "cell_type": "code",
   "execution_count": null,
   "metadata": {},
   "outputs": [],
   "source": [
    "from bson.objectid import ObjectId\n",
    "\n",
    "conversationid = ObjectId('641855f70d1cbdf553a6b1b1')\n",
    "\n",
    "result = conversationCollection.find_one({\"_id\":conversationid}, {\"messages\":1})\n",
    "messagesIDs = result['messages']\n",
    "print(messagesIDs)\n",
    "\n",
    "msgIDs = [\"999\",\"888\"]\n",
    "for id in msgIDs:\n",
    "    messagesIDs.append(id)\n",
    "\n",
    "print(messagesIDs)\n",
    "\n",
    "result2 = conversationCollection.update_one({\"_id\":conversationid}, {\"$set\": { \"messages\": messagesIDs}})  \n",
    "print(\"result2:\")\n",
    "print(result2.raw_result['updatedExisting'])\n",
    "\n",
    "result3 = conversationCollection.find_one({\"_id\":conversationid})\n",
    "print(result3)\n",
    "\n"
   ]
  },
  {
   "cell_type": "code",
   "execution_count": null,
   "metadata": {},
   "outputs": [],
   "source": [
    "print(\"-------------print all databases---------------\")\n",
    "for db in myclient.list_databases():\n",
    "    print(db)\n",
    "print(\"-------------print all collections---------------\")\n",
    "for collection in mydb.list_collection_names():\n",
    "    print(collection)\n",
    "print(\"-------------pring all documents of conversation collection---------------\")\n",
    "for conversation in conversationCollection.find():\n",
    "  print(conversation)\n",
    "print(\"-------------pring all documents of message collection----------------\")\n",
    "for message in messageCollection.find():\n",
    "  print(message)\n"
   ]
  },
  {
   "cell_type": "code",
   "execution_count": null,
   "metadata": {},
   "outputs": [],
   "source": [
    "conversationEntities = conversationCollection.find()\n",
    "conversations = []\n",
    "for entity in conversationEntities:\n",
    "    messageIds = entity['messages']\n",
    "    objectIDs = list(map(lambda id: ObjectId(id), messageIds))\n",
    "    messageEntities = messageCollection.find({\"_id\": { \"$in\": objectIDs}}, {\"_id\":0})\n",
    "    messages = []\n",
    "    for msg in messageEntities:\n",
    "        message = {\n",
    "            \"role\": msg['role'],\n",
    "            \"content\": msg['content']\n",
    "        }\n",
    "        messages.append(message)\n",
    "    conversation = {\n",
    "        \"conversationId\": str(entity['_id']),\n",
    "        \"title\": entity['title'],\n",
    "        \"messages\": messages\n",
    "    }\n",
    "    conversations.append(conversation)\n",
    "print(conversations)"
   ]
  },
  {
   "cell_type": "code",
   "execution_count": null,
   "metadata": {},
   "outputs": [],
   "source": [
    "from bson.objectid import ObjectId\n",
    "\n",
    "ids = ['641ad137498ca1a8ede1cc7b', '641ad137498ca1a8ede1cc7c']\n",
    "objectIDs = list(map(lambda id: ObjectId(id), ids))\n",
    "print(objectIDs)\n",
    "\n",
    "messages = messageCollection.find({\"_id\": { \"$in\": objectIDs}}, {\"_id\":0})\n",
    "for message in messages:\n",
    "    print(message)\n",
    "\n"
   ]
  },
  {
   "cell_type": "code",
   "execution_count": null,
   "metadata": {},
   "outputs": [],
   "source": [
    "db.createUser({ user: 'username, pwd: ‘password', roles: [{ role: 'read', db: 'mytest' }] })"
   ]
  }
 ],
 "metadata": {
  "interpreter": {
   "hash": "fc893629906d2d041a313b797c7a9ba533b64024ccdaecb0070e6eddc494b726"
  },
  "kernelspec": {
   "display_name": "Python 3.9.12 ('base')",
   "language": "python",
   "name": "python3"
  },
  "language_info": {
   "codemirror_mode": {
    "name": "ipython",
    "version": 3
   },
   "file_extension": ".py",
   "mimetype": "text/x-python",
   "name": "python",
   "nbconvert_exporter": "python",
   "pygments_lexer": "ipython3",
   "version": "3.9.12"
  },
  "orig_nbformat": 4
 },
 "nbformat": 4,
 "nbformat_minor": 2
}
